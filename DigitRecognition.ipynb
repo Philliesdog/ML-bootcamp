{
  "nbformat": 4,
  "nbformat_minor": 0,
  "metadata": {
    "colab": {
      "provenance": []
    },
    "kernelspec": {
      "name": "python3",
      "display_name": "Python 3"
    },
    "language_info": {
      "name": "python"
    }
  },
  "cells": [
    {
      "cell_type": "code",
      "execution_count": 2,
      "metadata": {
        "id": "9aBRYbm_f6JU"
      },
      "outputs": [],
      "source": [
        "from torchvision import datasets\n",
        "from torchvision.transforms import ToTensor"
      ]
    },
    {
      "cell_type": "code",
      "source": [
        "train_data = datasets.MNIST(\n",
        "    root = 'data',\n",
        "    train = True,\n",
        "    transform = ToTensor(),\n",
        "    download = True\n",
        ")\n",
        "\n",
        "test_data = datasets.MNIST(\n",
        "    root = 'data',\n",
        "    train = False,\n",
        "    transform = ToTensor(),\n",
        "    download = True\n",
        ")"
      ],
      "metadata": {
        "colab": {
          "base_uri": "https://localhost:8080/"
        },
        "id": "xaf0m88Gg0qg",
        "outputId": "f4514cf9-eb53-4d04-bada-09296b4895df"
      },
      "execution_count": 3,
      "outputs": [
        {
          "output_type": "stream",
          "name": "stdout",
          "text": [
            "Downloading http://yann.lecun.com/exdb/mnist/train-images-idx3-ubyte.gz\n",
            "Failed to download (trying next):\n",
            "<urlopen error [SSL: CERTIFICATE_VERIFY_FAILED] certificate verify failed: certificate has expired (_ssl.c:1007)>\n",
            "\n",
            "Downloading https://ossci-datasets.s3.amazonaws.com/mnist/train-images-idx3-ubyte.gz\n",
            "Downloading https://ossci-datasets.s3.amazonaws.com/mnist/train-images-idx3-ubyte.gz to data/MNIST/raw/train-images-idx3-ubyte.gz\n"
          ]
        },
        {
          "output_type": "stream",
          "name": "stderr",
          "text": [
            "100%|██████████| 9912422/9912422 [00:00<00:00, 35716645.56it/s]\n"
          ]
        },
        {
          "output_type": "stream",
          "name": "stdout",
          "text": [
            "Extracting data/MNIST/raw/train-images-idx3-ubyte.gz to data/MNIST/raw\n",
            "\n",
            "Downloading http://yann.lecun.com/exdb/mnist/train-labels-idx1-ubyte.gz\n",
            "Failed to download (trying next):\n",
            "<urlopen error [SSL: CERTIFICATE_VERIFY_FAILED] certificate verify failed: certificate has expired (_ssl.c:1007)>\n",
            "\n",
            "Downloading https://ossci-datasets.s3.amazonaws.com/mnist/train-labels-idx1-ubyte.gz\n",
            "Downloading https://ossci-datasets.s3.amazonaws.com/mnist/train-labels-idx1-ubyte.gz to data/MNIST/raw/train-labels-idx1-ubyte.gz\n"
          ]
        },
        {
          "output_type": "stream",
          "name": "stderr",
          "text": [
            "100%|██████████| 28881/28881 [00:00<00:00, 1209554.70it/s]"
          ]
        },
        {
          "output_type": "stream",
          "name": "stdout",
          "text": [
            "Extracting data/MNIST/raw/train-labels-idx1-ubyte.gz to data/MNIST/raw\n",
            "\n",
            "Downloading http://yann.lecun.com/exdb/mnist/t10k-images-idx3-ubyte.gz\n"
          ]
        },
        {
          "output_type": "stream",
          "name": "stderr",
          "text": [
            "\n"
          ]
        },
        {
          "output_type": "stream",
          "name": "stdout",
          "text": [
            "Failed to download (trying next):\n",
            "<urlopen error [SSL: CERTIFICATE_VERIFY_FAILED] certificate verify failed: certificate has expired (_ssl.c:1007)>\n",
            "\n",
            "Downloading https://ossci-datasets.s3.amazonaws.com/mnist/t10k-images-idx3-ubyte.gz\n",
            "Downloading https://ossci-datasets.s3.amazonaws.com/mnist/t10k-images-idx3-ubyte.gz to data/MNIST/raw/t10k-images-idx3-ubyte.gz\n"
          ]
        },
        {
          "output_type": "stream",
          "name": "stderr",
          "text": [
            "100%|██████████| 1648877/1648877 [00:00<00:00, 9734727.87it/s]\n"
          ]
        },
        {
          "output_type": "stream",
          "name": "stdout",
          "text": [
            "Extracting data/MNIST/raw/t10k-images-idx3-ubyte.gz to data/MNIST/raw\n",
            "\n",
            "Downloading http://yann.lecun.com/exdb/mnist/t10k-labels-idx1-ubyte.gz\n",
            "Failed to download (trying next):\n",
            "<urlopen error [SSL: CERTIFICATE_VERIFY_FAILED] certificate verify failed: certificate has expired (_ssl.c:1007)>\n",
            "\n",
            "Downloading https://ossci-datasets.s3.amazonaws.com/mnist/t10k-labels-idx1-ubyte.gz\n",
            "Downloading https://ossci-datasets.s3.amazonaws.com/mnist/t10k-labels-idx1-ubyte.gz to data/MNIST/raw/t10k-labels-idx1-ubyte.gz\n"
          ]
        },
        {
          "output_type": "stream",
          "name": "stderr",
          "text": [
            "100%|██████████| 4542/4542 [00:00<00:00, 8229170.09it/s]"
          ]
        },
        {
          "output_type": "stream",
          "name": "stdout",
          "text": [
            "Extracting data/MNIST/raw/t10k-labels-idx1-ubyte.gz to data/MNIST/raw\n",
            "\n"
          ]
        },
        {
          "output_type": "stream",
          "name": "stderr",
          "text": [
            "\n"
          ]
        }
      ]
    },
    {
      "cell_type": "code",
      "source": [
        "train_data"
      ],
      "metadata": {
        "colab": {
          "base_uri": "https://localhost:8080/"
        },
        "id": "5pi5fYsEhPUA",
        "outputId": "419510e9-42e5-4c71-e63e-3b601531369d"
      },
      "execution_count": 4,
      "outputs": [
        {
          "output_type": "execute_result",
          "data": {
            "text/plain": [
              "Dataset MNIST\n",
              "    Number of datapoints: 60000\n",
              "    Root location: data\n",
              "    Split: Train\n",
              "    StandardTransform\n",
              "Transform: ToTensor()"
            ]
          },
          "metadata": {},
          "execution_count": 4
        }
      ]
    },
    {
      "cell_type": "code",
      "source": [
        "test_data"
      ],
      "metadata": {
        "colab": {
          "base_uri": "https://localhost:8080/"
        },
        "id": "2tMqWipChdVa",
        "outputId": "52172399-0a35-4ae3-9462-4255b2c9234b"
      },
      "execution_count": 5,
      "outputs": [
        {
          "output_type": "execute_result",
          "data": {
            "text/plain": [
              "Dataset MNIST\n",
              "    Number of datapoints: 10000\n",
              "    Root location: data\n",
              "    Split: Test\n",
              "    StandardTransform\n",
              "Transform: ToTensor()"
            ]
          },
          "metadata": {},
          "execution_count": 5
        }
      ]
    },
    {
      "cell_type": "code",
      "source": [
        "train_data.data.shape"
      ],
      "metadata": {
        "colab": {
          "base_uri": "https://localhost:8080/"
        },
        "id": "p_kaPGKsh6Jm",
        "outputId": "1178caf4-cfbf-442e-9b45-ac1b99a0ac05"
      },
      "execution_count": 6,
      "outputs": [
        {
          "output_type": "execute_result",
          "data": {
            "text/plain": [
              "torch.Size([60000, 28, 28])"
            ]
          },
          "metadata": {},
          "execution_count": 6
        }
      ]
    },
    {
      "cell_type": "code",
      "source": [
        "train_data.targets"
      ],
      "metadata": {
        "colab": {
          "base_uri": "https://localhost:8080/"
        },
        "id": "bZ4rhCERiCV3",
        "outputId": "c454e366-bce2-4f12-c08d-3f95f5062244"
      },
      "execution_count": 7,
      "outputs": [
        {
          "output_type": "execute_result",
          "data": {
            "text/plain": [
              "tensor([5, 0, 4,  ..., 5, 6, 8])"
            ]
          },
          "metadata": {},
          "execution_count": 7
        }
      ]
    },
    {
      "cell_type": "code",
      "source": [
        "from torch.utils.data import DataLoader\n",
        "\n",
        "loaders = {\n",
        "    'train': DataLoader(train_data,\n",
        "                        batch_size=100,\n",
        "                        shuffle=True,\n",
        "                        num_workers=1),\n",
        "\n",
        "    'test': DataLoader(test_data,\n",
        "                        batch_size=100,\n",
        "                        shuffle=True,\n",
        "                        num_workers=1)\n",
        "}"
      ],
      "metadata": {
        "id": "nQMkH90_iIFH"
      },
      "execution_count": 8,
      "outputs": []
    },
    {
      "cell_type": "code",
      "source": [
        "loaders"
      ],
      "metadata": {
        "colab": {
          "base_uri": "https://localhost:8080/"
        },
        "id": "Dv-qEH9TjKsn",
        "outputId": "5a448abc-0e15-41bc-a5d4-4d01ee4847fc"
      },
      "execution_count": 9,
      "outputs": [
        {
          "output_type": "execute_result",
          "data": {
            "text/plain": [
              "{'train': <torch.utils.data.dataloader.DataLoader at 0x7bf2ca6b20e0>,\n",
              " 'test': <torch.utils.data.dataloader.DataLoader at 0x7bf2ca6b1690>}"
            ]
          },
          "metadata": {},
          "execution_count": 9
        }
      ]
    },
    {
      "cell_type": "code",
      "source": [
        "import torch.nn as nn\n",
        "import torch.nn.functional as F\n",
        "import torch.optim as optim\n",
        "\n",
        "class Net(nn.Module):\n",
        "\n",
        "  def __init__(self):\n",
        "    super(Net, self).__init__()\n",
        "\n",
        "    self.conv1 = nn.Conv2d(1, 10, kernel_size=5)\n",
        "    self.conv2 = nn.Conv2d(10, 20, kernel_size=5)\n",
        "    self.conv2_drop = nn.Dropout2d()\n",
        "    self.fc1 = nn.Linear(320, 50)\n",
        "    self.fc2 = nn.Linear(50, 10)\n",
        "\n",
        "  def forward(self, x):\n",
        "    x = F.relu(F.max_pool2d(self.conv1(x), 2))\n",
        "    x = F.relu(F.max_pool2d(self.conv2_drop(self.conv2(x)), 2))\n",
        "    x = x.view(-1, 320)\n",
        "    x = F.relu(self.fc1(x))\n",
        "    x = F.dropout(x, training=self.training)\n",
        "    x = self.fc2(x)\n",
        "\n",
        "    return F.softmax(x)"
      ],
      "metadata": {
        "id": "Y8XYbAmgjN6a"
      },
      "execution_count": 10,
      "outputs": []
    },
    {
      "cell_type": "code",
      "source": [
        "import torch\n",
        "\n",
        "device = torch.device('cuda' if torch.cuda.is_available() else 'cpu')\n",
        "\n",
        "model = Net().to(device)\n",
        "\n",
        "optimizer = optim.Adam(model.parameters(), lr=.001)\n",
        "\n",
        "loss_fn = nn.CrossEntropyLoss()\n",
        "\n",
        "def train(epoch):\n",
        "  model.train()\n",
        "  for batch_idx, (data, target) in enumerate(loaders['train']):\n",
        "    data, target = data.to(device), target.to(device)\n",
        "    optimizer.zero_grad()\n",
        "    output = model(data)\n",
        "    loss = loss_fn(output, target)\n",
        "    loss.backward()\n",
        "    optimizer.step()\n",
        "\n",
        "    if batch_idx % 20 == 0:\n",
        "      print(f'Train Epoch: {epoch} [{batch_idx * len(data)}/{len(loaders[\"train\"].dataset)} ({100. * batch_idx / len(loaders[\"train\"]):.0f}%)]\\t{loss.item():.6f}')\n",
        "\n",
        "def test():\n",
        "  model.eval()\n",
        "\n",
        "  test_loss = 0\n",
        "  correct = 0\n",
        "  with torch.no_grad():\n",
        "    for data, target in loaders['test']:\n",
        "      data, target = data.to(device), target.to(device)\n",
        "      output = model(data)\n",
        "      test_loss += loss_fn(output, target).item()\n",
        "      pred = output.argmax(dim=1, keepdim=True)\n",
        "      correct += pred.eq(target.view_as(pred)).sum().item()\n",
        "\n",
        "  test_loss /= len(loaders['test'].dataset)\n",
        "  print(f'\\nTest set: Average Loss: {test_loss:.4f}, Accuracy {correct}/{len(loaders[\"test\"].dataset)} ({100. * correct / len(loaders[\"test\"].dataset):.0f}%\\n)')"
      ],
      "metadata": {
        "id": "sJRPOjBemF39"
      },
      "execution_count": 11,
      "outputs": []
    },
    {
      "cell_type": "code",
      "source": [
        "for epoch in range(1, 11):\n",
        "  train(epoch)\n",
        "  test()"
      ],
      "metadata": {
        "colab": {
          "base_uri": "https://localhost:8080/"
        },
        "id": "v6sQtOaeqEl6",
        "outputId": "f2da2153-0528-4b46-ba50-548e472d6539"
      },
      "execution_count": 12,
      "outputs": [
        {
          "metadata": {
            "tags": null
          },
          "name": "stderr",
          "output_type": "stream",
          "text": [
            "<ipython-input-10-d585c24776b0>:24: UserWarning: Implicit dimension choice for softmax has been deprecated. Change the call to include dim=X as an argument.\n",
            "  return F.softmax(x)\n"
          ]
        },
        {
          "metadata": {
            "tags": null
          },
          "name": "stdout",
          "output_type": "stream",
          "text": [
            "Train Epoch: 1 [0/60000 (0%)]\t2.301772\n",
            "Train Epoch: 1 [2000/60000 (3%)]\t2.293750\n",
            "Train Epoch: 1 [4000/60000 (7%)]\t2.179264\n",
            "Train Epoch: 1 [6000/60000 (10%)]\t2.009672\n",
            "Train Epoch: 1 [8000/60000 (13%)]\t1.885741\n",
            "Train Epoch: 1 [10000/60000 (17%)]\t1.809276\n",
            "Train Epoch: 1 [12000/60000 (20%)]\t1.820943\n",
            "Train Epoch: 1 [14000/60000 (23%)]\t1.822543\n",
            "Train Epoch: 1 [16000/60000 (27%)]\t1.810094\n",
            "Train Epoch: 1 [18000/60000 (30%)]\t1.744317\n",
            "Train Epoch: 1 [20000/60000 (33%)]\t1.699646\n",
            "Train Epoch: 1 [22000/60000 (37%)]\t1.675601\n",
            "Train Epoch: 1 [24000/60000 (40%)]\t1.660053\n",
            "Train Epoch: 1 [26000/60000 (43%)]\t1.754182\n",
            "Train Epoch: 1 [28000/60000 (47%)]\t1.684759\n",
            "Train Epoch: 1 [30000/60000 (50%)]\t1.640517\n",
            "Train Epoch: 1 [32000/60000 (53%)]\t1.645455\n",
            "Train Epoch: 1 [34000/60000 (57%)]\t1.640565\n",
            "Train Epoch: 1 [36000/60000 (60%)]\t1.601253\n",
            "Train Epoch: 1 [38000/60000 (63%)]\t1.635584\n",
            "Train Epoch: 1 [40000/60000 (67%)]\t1.661337\n",
            "Train Epoch: 1 [42000/60000 (70%)]\t1.573165\n",
            "Train Epoch: 1 [44000/60000 (73%)]\t1.645064\n",
            "Train Epoch: 1 [46000/60000 (77%)]\t1.651921\n",
            "Train Epoch: 1 [48000/60000 (80%)]\t1.630805\n",
            "Train Epoch: 1 [50000/60000 (83%)]\t1.605675\n",
            "Train Epoch: 1 [52000/60000 (87%)]\t1.578666\n",
            "Train Epoch: 1 [54000/60000 (90%)]\t1.620506\n",
            "Train Epoch: 1 [56000/60000 (93%)]\t1.644756\n",
            "Train Epoch: 1 [58000/60000 (97%)]\t1.553170\n",
            "\n",
            "Test set: Average Loss: 0.0152, Accuracy 9408/10000 (94%\n",
            ")\n",
            "Train Epoch: 2 [0/60000 (0%)]\t1.598771\n",
            "Train Epoch: 2 [2000/60000 (3%)]\t1.543054\n",
            "Train Epoch: 2 [4000/60000 (7%)]\t1.594144\n",
            "Train Epoch: 2 [6000/60000 (10%)]\t1.519910\n",
            "Train Epoch: 2 [8000/60000 (13%)]\t1.583323\n",
            "Train Epoch: 2 [10000/60000 (17%)]\t1.586908\n",
            "Train Epoch: 2 [12000/60000 (20%)]\t1.574359\n",
            "Train Epoch: 2 [14000/60000 (23%)]\t1.580610\n",
            "Train Epoch: 2 [16000/60000 (27%)]\t1.528442\n",
            "Train Epoch: 2 [18000/60000 (30%)]\t1.657214\n",
            "Train Epoch: 2 [20000/60000 (33%)]\t1.546659\n",
            "Train Epoch: 2 [22000/60000 (37%)]\t1.564576\n",
            "Train Epoch: 2 [24000/60000 (40%)]\t1.555256\n",
            "Train Epoch: 2 [26000/60000 (43%)]\t1.574221\n",
            "Train Epoch: 2 [28000/60000 (47%)]\t1.596088\n",
            "Train Epoch: 2 [30000/60000 (50%)]\t1.553986\n",
            "Train Epoch: 2 [32000/60000 (53%)]\t1.515616\n",
            "Train Epoch: 2 [34000/60000 (57%)]\t1.534125\n",
            "Train Epoch: 2 [36000/60000 (60%)]\t1.573390\n",
            "Train Epoch: 2 [38000/60000 (63%)]\t1.588977\n",
            "Train Epoch: 2 [40000/60000 (67%)]\t1.562933\n",
            "Train Epoch: 2 [42000/60000 (70%)]\t1.626764\n",
            "Train Epoch: 2 [44000/60000 (73%)]\t1.578823\n",
            "Train Epoch: 2 [46000/60000 (77%)]\t1.569301\n",
            "Train Epoch: 2 [48000/60000 (80%)]\t1.555079\n",
            "Train Epoch: 2 [50000/60000 (83%)]\t1.560896\n",
            "Train Epoch: 2 [52000/60000 (87%)]\t1.534036\n",
            "Train Epoch: 2 [54000/60000 (90%)]\t1.566722\n",
            "Train Epoch: 2 [56000/60000 (93%)]\t1.582533\n",
            "Train Epoch: 2 [58000/60000 (97%)]\t1.616231\n",
            "\n",
            "Test set: Average Loss: 0.0151, Accuracy 9555/10000 (96%\n",
            ")\n",
            "Train Epoch: 3 [0/60000 (0%)]\t1.540835\n",
            "Train Epoch: 3 [2000/60000 (3%)]\t1.559863\n",
            "Train Epoch: 3 [4000/60000 (7%)]\t1.597232\n",
            "Train Epoch: 3 [6000/60000 (10%)]\t1.507682\n",
            "Train Epoch: 3 [8000/60000 (13%)]\t1.556245\n",
            "Train Epoch: 3 [10000/60000 (17%)]\t1.582377\n",
            "Train Epoch: 3 [12000/60000 (20%)]\t1.549853\n",
            "Train Epoch: 3 [14000/60000 (23%)]\t1.521180\n",
            "Train Epoch: 3 [16000/60000 (27%)]\t1.567335\n",
            "Train Epoch: 3 [18000/60000 (30%)]\t1.519537\n",
            "Train Epoch: 3 [20000/60000 (33%)]\t1.592854\n",
            "Train Epoch: 3 [22000/60000 (37%)]\t1.543371\n",
            "Train Epoch: 3 [24000/60000 (40%)]\t1.539501\n",
            "Train Epoch: 3 [26000/60000 (43%)]\t1.581114\n",
            "Train Epoch: 3 [28000/60000 (47%)]\t1.523813\n",
            "Train Epoch: 3 [30000/60000 (50%)]\t1.570045\n",
            "Train Epoch: 3 [32000/60000 (53%)]\t1.609057\n",
            "Train Epoch: 3 [34000/60000 (57%)]\t1.541134\n",
            "Train Epoch: 3 [36000/60000 (60%)]\t1.510432\n",
            "Train Epoch: 3 [38000/60000 (63%)]\t1.499992\n",
            "Train Epoch: 3 [40000/60000 (67%)]\t1.565052\n",
            "Train Epoch: 3 [42000/60000 (70%)]\t1.518991\n",
            "Train Epoch: 3 [44000/60000 (73%)]\t1.620203\n",
            "Train Epoch: 3 [46000/60000 (77%)]\t1.535758\n",
            "Train Epoch: 3 [48000/60000 (80%)]\t1.547096\n",
            "Train Epoch: 3 [50000/60000 (83%)]\t1.523243\n",
            "Train Epoch: 3 [52000/60000 (87%)]\t1.548841\n",
            "Train Epoch: 3 [54000/60000 (90%)]\t1.564128\n",
            "Train Epoch: 3 [56000/60000 (93%)]\t1.548357\n",
            "Train Epoch: 3 [58000/60000 (97%)]\t1.531809\n",
            "\n",
            "Test set: Average Loss: 0.0150, Accuracy 9641/10000 (96%\n",
            ")\n",
            "Train Epoch: 4 [0/60000 (0%)]\t1.517724\n",
            "Train Epoch: 4 [2000/60000 (3%)]\t1.545374\n",
            "Train Epoch: 4 [4000/60000 (7%)]\t1.551079\n",
            "Train Epoch: 4 [6000/60000 (10%)]\t1.521378\n",
            "Train Epoch: 4 [8000/60000 (13%)]\t1.553239\n",
            "Train Epoch: 4 [10000/60000 (17%)]\t1.520084\n",
            "Train Epoch: 4 [12000/60000 (20%)]\t1.530743\n",
            "Train Epoch: 4 [14000/60000 (23%)]\t1.553782\n",
            "Train Epoch: 4 [16000/60000 (27%)]\t1.522865\n",
            "Train Epoch: 4 [18000/60000 (30%)]\t1.541078\n",
            "Train Epoch: 4 [20000/60000 (33%)]\t1.530402\n",
            "Train Epoch: 4 [22000/60000 (37%)]\t1.523550\n",
            "Train Epoch: 4 [24000/60000 (40%)]\t1.622049\n",
            "Train Epoch: 4 [26000/60000 (43%)]\t1.543962\n",
            "Train Epoch: 4 [28000/60000 (47%)]\t1.550029\n",
            "Train Epoch: 4 [30000/60000 (50%)]\t1.541269\n",
            "Train Epoch: 4 [32000/60000 (53%)]\t1.510690\n",
            "Train Epoch: 4 [34000/60000 (57%)]\t1.535293\n",
            "Train Epoch: 4 [36000/60000 (60%)]\t1.533451\n",
            "Train Epoch: 4 [38000/60000 (63%)]\t1.553899\n",
            "Train Epoch: 4 [40000/60000 (67%)]\t1.584659\n",
            "Train Epoch: 4 [42000/60000 (70%)]\t1.533074\n",
            "Train Epoch: 4 [44000/60000 (73%)]\t1.529832\n",
            "Train Epoch: 4 [46000/60000 (77%)]\t1.498921\n",
            "Train Epoch: 4 [48000/60000 (80%)]\t1.544910\n",
            "Train Epoch: 4 [50000/60000 (83%)]\t1.565698\n",
            "Train Epoch: 4 [52000/60000 (87%)]\t1.516783\n",
            "Train Epoch: 4 [54000/60000 (90%)]\t1.499834\n",
            "Train Epoch: 4 [56000/60000 (93%)]\t1.561923\n",
            "Train Epoch: 4 [58000/60000 (97%)]\t1.521980\n",
            "\n",
            "Test set: Average Loss: 0.0150, Accuracy 9649/10000 (96%\n",
            ")\n",
            "Train Epoch: 5 [0/60000 (0%)]\t1.529604\n",
            "Train Epoch: 5 [2000/60000 (3%)]\t1.577196\n",
            "Train Epoch: 5 [4000/60000 (7%)]\t1.523500\n",
            "Train Epoch: 5 [6000/60000 (10%)]\t1.564277\n",
            "Train Epoch: 5 [8000/60000 (13%)]\t1.532865\n",
            "Train Epoch: 5 [10000/60000 (17%)]\t1.515186\n",
            "Train Epoch: 5 [12000/60000 (20%)]\t1.550896\n",
            "Train Epoch: 5 [14000/60000 (23%)]\t1.532590\n",
            "Train Epoch: 5 [16000/60000 (27%)]\t1.538754\n",
            "Train Epoch: 5 [18000/60000 (30%)]\t1.506974\n",
            "Train Epoch: 5 [20000/60000 (33%)]\t1.524172\n",
            "Train Epoch: 5 [22000/60000 (37%)]\t1.533169\n",
            "Train Epoch: 5 [24000/60000 (40%)]\t1.506813\n",
            "Train Epoch: 5 [26000/60000 (43%)]\t1.590372\n",
            "Train Epoch: 5 [28000/60000 (47%)]\t1.519635\n",
            "Train Epoch: 5 [30000/60000 (50%)]\t1.530115\n",
            "Train Epoch: 5 [32000/60000 (53%)]\t1.503994\n",
            "Train Epoch: 5 [34000/60000 (57%)]\t1.558588\n",
            "Train Epoch: 5 [36000/60000 (60%)]\t1.541947\n",
            "Train Epoch: 5 [38000/60000 (63%)]\t1.552564\n",
            "Train Epoch: 5 [40000/60000 (67%)]\t1.527074\n",
            "Train Epoch: 5 [42000/60000 (70%)]\t1.509172\n",
            "Train Epoch: 5 [44000/60000 (73%)]\t1.510605\n",
            "Train Epoch: 5 [46000/60000 (77%)]\t1.555422\n",
            "Train Epoch: 5 [48000/60000 (80%)]\t1.538055\n",
            "Train Epoch: 5 [50000/60000 (83%)]\t1.544152\n",
            "Train Epoch: 5 [52000/60000 (87%)]\t1.551139\n",
            "Train Epoch: 5 [54000/60000 (90%)]\t1.551564\n",
            "Train Epoch: 5 [56000/60000 (93%)]\t1.550794\n",
            "Train Epoch: 5 [58000/60000 (97%)]\t1.512632\n",
            "\n",
            "Test set: Average Loss: 0.0149, Accuracy 9696/10000 (97%\n",
            ")\n",
            "Train Epoch: 6 [0/60000 (0%)]\t1.565465\n",
            "Train Epoch: 6 [2000/60000 (3%)]\t1.526702\n",
            "Train Epoch: 6 [4000/60000 (7%)]\t1.541672\n",
            "Train Epoch: 6 [6000/60000 (10%)]\t1.502773\n",
            "Train Epoch: 6 [8000/60000 (13%)]\t1.493381\n",
            "Train Epoch: 6 [10000/60000 (17%)]\t1.561559\n",
            "Train Epoch: 6 [12000/60000 (20%)]\t1.565311\n",
            "Train Epoch: 6 [14000/60000 (23%)]\t1.529992\n",
            "Train Epoch: 6 [16000/60000 (27%)]\t1.513336\n",
            "Train Epoch: 6 [18000/60000 (30%)]\t1.567158\n",
            "Train Epoch: 6 [20000/60000 (33%)]\t1.559153\n",
            "Train Epoch: 6 [22000/60000 (37%)]\t1.545528\n",
            "Train Epoch: 6 [24000/60000 (40%)]\t1.516511\n",
            "Train Epoch: 6 [26000/60000 (43%)]\t1.527824\n",
            "Train Epoch: 6 [28000/60000 (47%)]\t1.499494\n",
            "Train Epoch: 6 [30000/60000 (50%)]\t1.525689\n",
            "Train Epoch: 6 [32000/60000 (53%)]\t1.527213\n",
            "Train Epoch: 6 [34000/60000 (57%)]\t1.563986\n",
            "Train Epoch: 6 [36000/60000 (60%)]\t1.543471\n",
            "Train Epoch: 6 [38000/60000 (63%)]\t1.525843\n",
            "Train Epoch: 6 [40000/60000 (67%)]\t1.509386\n",
            "Train Epoch: 6 [42000/60000 (70%)]\t1.620225\n",
            "Train Epoch: 6 [44000/60000 (73%)]\t1.531651\n",
            "Train Epoch: 6 [46000/60000 (77%)]\t1.568080\n",
            "Train Epoch: 6 [48000/60000 (80%)]\t1.554896\n",
            "Train Epoch: 6 [50000/60000 (83%)]\t1.519962\n",
            "Train Epoch: 6 [52000/60000 (87%)]\t1.513298\n",
            "Train Epoch: 6 [54000/60000 (90%)]\t1.583611\n",
            "Train Epoch: 6 [56000/60000 (93%)]\t1.506013\n",
            "Train Epoch: 6 [58000/60000 (97%)]\t1.531617\n",
            "\n",
            "Test set: Average Loss: 0.0149, Accuracy 9718/10000 (97%\n",
            ")\n",
            "Train Epoch: 7 [0/60000 (0%)]\t1.588346\n",
            "Train Epoch: 7 [2000/60000 (3%)]\t1.531288\n",
            "Train Epoch: 7 [4000/60000 (7%)]\t1.543854\n",
            "Train Epoch: 7 [6000/60000 (10%)]\t1.519855\n",
            "Train Epoch: 7 [8000/60000 (13%)]\t1.506730\n",
            "Train Epoch: 7 [10000/60000 (17%)]\t1.519647\n",
            "Train Epoch: 7 [12000/60000 (20%)]\t1.557482\n",
            "Train Epoch: 7 [14000/60000 (23%)]\t1.505728\n",
            "Train Epoch: 7 [16000/60000 (27%)]\t1.535887\n",
            "Train Epoch: 7 [18000/60000 (30%)]\t1.493056\n",
            "Train Epoch: 7 [20000/60000 (33%)]\t1.529628\n",
            "Train Epoch: 7 [22000/60000 (37%)]\t1.485820\n",
            "Train Epoch: 7 [24000/60000 (40%)]\t1.522577\n",
            "Train Epoch: 7 [26000/60000 (43%)]\t1.494208\n",
            "Train Epoch: 7 [28000/60000 (47%)]\t1.534681\n",
            "Train Epoch: 7 [30000/60000 (50%)]\t1.505648\n",
            "Train Epoch: 7 [32000/60000 (53%)]\t1.556491\n",
            "Train Epoch: 7 [34000/60000 (57%)]\t1.562671\n",
            "Train Epoch: 7 [36000/60000 (60%)]\t1.501583\n",
            "Train Epoch: 7 [38000/60000 (63%)]\t1.517894\n",
            "Train Epoch: 7 [40000/60000 (67%)]\t1.541390\n",
            "Train Epoch: 7 [42000/60000 (70%)]\t1.500029\n",
            "Train Epoch: 7 [44000/60000 (73%)]\t1.533216\n",
            "Train Epoch: 7 [46000/60000 (77%)]\t1.503029\n",
            "Train Epoch: 7 [48000/60000 (80%)]\t1.509706\n",
            "Train Epoch: 7 [50000/60000 (83%)]\t1.568805\n",
            "Train Epoch: 7 [52000/60000 (87%)]\t1.514366\n",
            "Train Epoch: 7 [54000/60000 (90%)]\t1.535606\n",
            "Train Epoch: 7 [56000/60000 (93%)]\t1.536139\n",
            "Train Epoch: 7 [58000/60000 (97%)]\t1.498948\n",
            "\n",
            "Test set: Average Loss: 0.0149, Accuracy 9713/10000 (97%\n",
            ")\n",
            "Train Epoch: 8 [0/60000 (0%)]\t1.514021\n",
            "Train Epoch: 8 [2000/60000 (3%)]\t1.558243\n",
            "Train Epoch: 8 [4000/60000 (7%)]\t1.573799\n",
            "Train Epoch: 8 [6000/60000 (10%)]\t1.514602\n",
            "Train Epoch: 8 [8000/60000 (13%)]\t1.512037\n",
            "Train Epoch: 8 [10000/60000 (17%)]\t1.512812\n",
            "Train Epoch: 8 [12000/60000 (20%)]\t1.502248\n",
            "Train Epoch: 8 [14000/60000 (23%)]\t1.550335\n",
            "Train Epoch: 8 [16000/60000 (27%)]\t1.526117\n",
            "Train Epoch: 8 [18000/60000 (30%)]\t1.523258\n",
            "Train Epoch: 8 [20000/60000 (33%)]\t1.549661\n",
            "Train Epoch: 8 [22000/60000 (37%)]\t1.538076\n",
            "Train Epoch: 8 [24000/60000 (40%)]\t1.555404\n",
            "Train Epoch: 8 [26000/60000 (43%)]\t1.549878\n",
            "Train Epoch: 8 [28000/60000 (47%)]\t1.508965\n",
            "Train Epoch: 8 [30000/60000 (50%)]\t1.511030\n",
            "Train Epoch: 8 [32000/60000 (53%)]\t1.539049\n",
            "Train Epoch: 8 [34000/60000 (57%)]\t1.507074\n",
            "Train Epoch: 8 [36000/60000 (60%)]\t1.512775\n",
            "Train Epoch: 8 [38000/60000 (63%)]\t1.545730\n",
            "Train Epoch: 8 [40000/60000 (67%)]\t1.535825\n",
            "Train Epoch: 8 [42000/60000 (70%)]\t1.481464\n",
            "Train Epoch: 8 [44000/60000 (73%)]\t1.560622\n",
            "Train Epoch: 8 [46000/60000 (77%)]\t1.495910\n",
            "Train Epoch: 8 [48000/60000 (80%)]\t1.525248\n",
            "Train Epoch: 8 [50000/60000 (83%)]\t1.554874\n",
            "Train Epoch: 8 [52000/60000 (87%)]\t1.481102\n",
            "Train Epoch: 8 [54000/60000 (90%)]\t1.481532\n",
            "Train Epoch: 8 [56000/60000 (93%)]\t1.521690\n",
            "Train Epoch: 8 [58000/60000 (97%)]\t1.524561\n",
            "\n",
            "Test set: Average Loss: 0.0149, Accuracy 9740/10000 (97%\n",
            ")\n",
            "Train Epoch: 9 [0/60000 (0%)]\t1.527996\n",
            "Train Epoch: 9 [2000/60000 (3%)]\t1.500094\n",
            "Train Epoch: 9 [4000/60000 (7%)]\t1.491866\n",
            "Train Epoch: 9 [6000/60000 (10%)]\t1.564018\n",
            "Train Epoch: 9 [8000/60000 (13%)]\t1.537014\n",
            "Train Epoch: 9 [10000/60000 (17%)]\t1.517356\n",
            "Train Epoch: 9 [12000/60000 (20%)]\t1.508328\n",
            "Train Epoch: 9 [14000/60000 (23%)]\t1.534047\n",
            "Train Epoch: 9 [16000/60000 (27%)]\t1.538072\n",
            "Train Epoch: 9 [18000/60000 (30%)]\t1.533236\n",
            "Train Epoch: 9 [20000/60000 (33%)]\t1.549494\n",
            "Train Epoch: 9 [22000/60000 (37%)]\t1.509160\n",
            "Train Epoch: 9 [24000/60000 (40%)]\t1.526264\n",
            "Train Epoch: 9 [26000/60000 (43%)]\t1.536022\n",
            "Train Epoch: 9 [28000/60000 (47%)]\t1.522062\n",
            "Train Epoch: 9 [30000/60000 (50%)]\t1.540585\n",
            "Train Epoch: 9 [32000/60000 (53%)]\t1.537899\n",
            "Train Epoch: 9 [34000/60000 (57%)]\t1.527442\n",
            "Train Epoch: 9 [36000/60000 (60%)]\t1.550976\n",
            "Train Epoch: 9 [38000/60000 (63%)]\t1.506720\n",
            "Train Epoch: 9 [40000/60000 (67%)]\t1.509116\n",
            "Train Epoch: 9 [42000/60000 (70%)]\t1.508403\n",
            "Train Epoch: 9 [44000/60000 (73%)]\t1.508089\n",
            "Train Epoch: 9 [46000/60000 (77%)]\t1.508812\n",
            "Train Epoch: 9 [48000/60000 (80%)]\t1.519480\n",
            "Train Epoch: 9 [50000/60000 (83%)]\t1.530783\n",
            "Train Epoch: 9 [52000/60000 (87%)]\t1.546175\n",
            "Train Epoch: 9 [54000/60000 (90%)]\t1.488654\n",
            "Train Epoch: 9 [56000/60000 (93%)]\t1.595990\n",
            "Train Epoch: 9 [58000/60000 (97%)]\t1.507880\n",
            "\n",
            "Test set: Average Loss: 0.0149, Accuracy 9756/10000 (98%\n",
            ")\n",
            "Train Epoch: 10 [0/60000 (0%)]\t1.508809\n",
            "Train Epoch: 10 [2000/60000 (3%)]\t1.513584\n",
            "Train Epoch: 10 [4000/60000 (7%)]\t1.540415\n",
            "Train Epoch: 10 [6000/60000 (10%)]\t1.539008\n",
            "Train Epoch: 10 [8000/60000 (13%)]\t1.482781\n",
            "Train Epoch: 10 [10000/60000 (17%)]\t1.557404\n",
            "Train Epoch: 10 [12000/60000 (20%)]\t1.525325\n",
            "Train Epoch: 10 [14000/60000 (23%)]\t1.506999\n",
            "Train Epoch: 10 [16000/60000 (27%)]\t1.489081\n",
            "Train Epoch: 10 [18000/60000 (30%)]\t1.528093\n",
            "Train Epoch: 10 [20000/60000 (33%)]\t1.509534\n",
            "Train Epoch: 10 [22000/60000 (37%)]\t1.558228\n",
            "Train Epoch: 10 [24000/60000 (40%)]\t1.519743\n",
            "Train Epoch: 10 [26000/60000 (43%)]\t1.508726\n",
            "Train Epoch: 10 [28000/60000 (47%)]\t1.531732\n",
            "Train Epoch: 10 [30000/60000 (50%)]\t1.531209\n",
            "Train Epoch: 10 [32000/60000 (53%)]\t1.522600\n",
            "Train Epoch: 10 [34000/60000 (57%)]\t1.526983\n",
            "Train Epoch: 10 [36000/60000 (60%)]\t1.529027\n",
            "Train Epoch: 10 [38000/60000 (63%)]\t1.484847\n",
            "Train Epoch: 10 [40000/60000 (67%)]\t1.524495\n",
            "Train Epoch: 10 [42000/60000 (70%)]\t1.496027\n",
            "Train Epoch: 10 [44000/60000 (73%)]\t1.526541\n",
            "Train Epoch: 10 [46000/60000 (77%)]\t1.564606\n",
            "Train Epoch: 10 [48000/60000 (80%)]\t1.493779\n",
            "Train Epoch: 10 [50000/60000 (83%)]\t1.484257\n",
            "Train Epoch: 10 [52000/60000 (87%)]\t1.516373\n",
            "Train Epoch: 10 [54000/60000 (90%)]\t1.506835\n",
            "Train Epoch: 10 [56000/60000 (93%)]\t1.516173\n",
            "Train Epoch: 10 [58000/60000 (97%)]\t1.555119\n",
            "\n",
            "Test set: Average Loss: 0.0149, Accuracy 9757/10000 (98%\n",
            ")\n"
          ]
        }
      ]
    },
    {
      "cell_type": "code",
      "source": [
        "device"
      ],
      "metadata": {
        "colab": {
          "base_uri": "https://localhost:8080/"
        },
        "id": "PfiAbJH8IpTA",
        "outputId": "2c44c285-7548-4f24-c27f-8c66e8e9211d"
      },
      "execution_count": 13,
      "outputs": [
        {
          "output_type": "execute_result",
          "data": {
            "text/plain": [
              "device(type='cpu')"
            ]
          },
          "metadata": {},
          "execution_count": 13
        }
      ]
    },
    {
      "cell_type": "code",
      "source": [
        "import matplotlib.pyplot as plt\n",
        "\n",
        "model.eval()\n",
        "\n",
        "data, target = test_data[0]\n",
        "\n",
        "data = data.unsqueeze(0).to(device)\n",
        "\n",
        "output = model(data)\n",
        "\n",
        "prediction = output.argmax(dim=1, keepdim=True).item()\n",
        "\n",
        "print(f\"Prediction: {prediction}\")\n",
        "\n",
        "image = data.squeeze(0).squeeze(0).cpu().numpy()\n",
        "\n",
        "plt.imshow(image, cmap='gray')\n",
        "plt.show()"
      ],
      "metadata": {
        "colab": {
          "base_uri": "https://localhost:8080/",
          "height": 504
        },
        "id": "mTIKPEFgIvaC",
        "outputId": "d432fb44-c260-44ed-9146-f5cad69055f5"
      },
      "execution_count": 18,
      "outputs": [
        {
          "output_type": "stream",
          "name": "stdout",
          "text": [
            "Prediction: 7\n"
          ]
        },
        {
          "output_type": "stream",
          "name": "stderr",
          "text": [
            "<ipython-input-10-d585c24776b0>:24: UserWarning: Implicit dimension choice for softmax has been deprecated. Change the call to include dim=X as an argument.\n",
            "  return F.softmax(x)\n"
          ]
        },
        {
          "output_type": "display_data",
          "data": {
            "text/plain": [
              "<Figure size 640x480 with 1 Axes>"
            ],
            "image/png": "[encoded data removed]"
          },
          "metadata": {}
        }
      ]
    },
    {
      "cell_type": "code",
      "source": [
        "test()"
      ],
      "metadata": {
        "colab": {
          "base_uri": "https://localhost:8080/"
        },
        "id": "RyGcwhCbLI8S",
        "outputId": "f7d71e2e-559d-4846-967d-e2e57ff6cd46"
      },
      "execution_count": 17,
      "outputs": [
        {
          "output_type": "stream",
          "name": "stderr",
          "text": [
            "<ipython-input-10-d585c24776b0>:24: UserWarning: Implicit dimension choice for softmax has been deprecated. Change the call to include dim=X as an argument.\n",
            "  return F.softmax(x)\n"
          ]
        },
        {
          "output_type": "stream",
          "name": "stdout",
          "text": [
            "\n",
            "Test set: Average Loss: 0.0149, Accuracy 9757/10000 (98%\n",
            ")\n"
          ]
        }
      ]
    }
  ]
}